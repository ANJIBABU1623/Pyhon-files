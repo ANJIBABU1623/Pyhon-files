{
  "nbformat": 4,
  "nbformat_minor": 0,
  "metadata": {
    "colab": {
      "provenance": [],
      "authorship_tag": "ABX9TyOvZWQd2meem8ZGsyfeoIz0",
      "include_colab_link": true
    },
    "kernelspec": {
      "name": "python3",
      "display_name": "Python 3"
    },
    "language_info": {
      "name": "python"
    }
  },
  "cells": [
    {
      "cell_type": "markdown",
      "metadata": {
        "id": "view-in-github",
        "colab_type": "text"
      },
      "source": [
        "<a href=\"https://colab.research.google.com/github/ANJIBABU1623/Pyhon-files/blob/main/Untitled14.ipynb\" target=\"_parent\"><img src=\"https://colab.research.google.com/assets/colab-badge.svg\" alt=\"Open In Colab\"/></a>"
      ]
    },
    {
      "cell_type": "code",
      "execution_count": null,
      "metadata": {
        "colab": {
          "base_uri": "https://localhost:8080/"
        },
        "id": "gk7IUINquJdx",
        "outputId": "a6476f5e-c662-4617-eada-c7e7d6b22523"
      },
      "outputs": [
        {
          "output_type": "stream",
          "name": "stdout",
          "text": [
            "hello world\n"
          ]
        }
      ],
      "source": [
        "print('hello world')"
      ]
    },
    {
      "cell_type": "code",
      "source": [],
      "metadata": {
        "id": "HUjXhg3s0G2L"
      },
      "execution_count": null,
      "outputs": []
    },
    {
      "cell_type": "code",
      "source": [
        "print(2/2)"
      ],
      "metadata": {
        "colab": {
          "base_uri": "https://localhost:8080/"
        },
        "id": "mfV0wIy3uY0h",
        "outputId": "b57e6bb8-fc80-4d91-8260-006cb994727d"
      },
      "execution_count": null,
      "outputs": [
        {
          "output_type": "stream",
          "name": "stdout",
          "text": [
            "1.0\n"
          ]
        }
      ]
    },
    {
      "cell_type": "code",
      "source": [
        "a=input(\"enter a number\")\n",
        "print(a)"
      ],
      "metadata": {
        "colab": {
          "base_uri": "https://localhost:8080/"
        },
        "id": "Qu1noX_puUMu",
        "outputId": "74d56347-43e4-4a53-aef6-a60e3e14b627"
      },
      "execution_count": null,
      "outputs": [
        {
          "output_type": "stream",
          "name": "stdout",
          "text": [
            "enter a number3\n",
            "3\n"
          ]
        }
      ]
    },
    {
      "cell_type": "code",
      "source": [
        "a=input(\"enter a number\")\n",
        "print(\"a\")"
      ],
      "metadata": {
        "colab": {
          "base_uri": "https://localhost:8080/"
        },
        "id": "7agITMdXvSKG",
        "outputId": "610b0e36-a582-4807-8015-71c38627b2a5"
      },
      "execution_count": null,
      "outputs": [
        {
          "output_type": "stream",
          "name": "stdout",
          "text": [
            "enter a number3\n",
            "a\n"
          ]
        }
      ]
    },
    {
      "cell_type": "code",
      "source": [
        "a=\"anji\"\n",
        "print(a)\n",
        "type(a)\n"
      ],
      "metadata": {
        "colab": {
          "base_uri": "https://localhost:8080/"
        },
        "id": "INvaQdZYvpP2",
        "outputId": "2930dc50-28c8-4740-f4f6-02f1161625c6"
      },
      "execution_count": null,
      "outputs": [
        {
          "output_type": "stream",
          "name": "stdout",
          "text": [
            "anji\n"
          ]
        },
        {
          "output_type": "execute_result",
          "data": {
            "text/plain": [
              "str"
            ]
          },
          "metadata": {},
          "execution_count": 18
        }
      ]
    },
    {
      "cell_type": "code",
      "source": [
        "a=2\n",
        "b=4\n",
        "c=a+b\n",
        "print(c)\n",
        "d=a*b\n",
        "print(d)\n",
        "e=b-a\n",
        "print(e)\n",
        "\n",
        "\n",
        "\n"
      ],
      "metadata": {
        "colab": {
          "base_uri": "https://localhost:8080/"
        },
        "id": "XeABnr-2v1Vu",
        "outputId": "f7f72005-490d-4eae-9ee4-1580caf1cc92"
      },
      "execution_count": null,
      "outputs": [
        {
          "output_type": "stream",
          "name": "stdout",
          "text": [
            "6\n",
            "8\n",
            "2\n"
          ]
        }
      ]
    },
    {
      "cell_type": "code",
      "source": [
        "a = 21\n",
        "b = 10\n",
        "if ( a == b ):\n",
        " print (\"Line 1 - a is equal to b\")\n",
        "else:\n",
        " print (\"Line 1 - a is not equal to b\")\n",
        "if ( a != b ):\n",
        " print (\"Line 2 - a is not equal to b\")\n",
        "else:\n",
        " print (\"Line 2 - a is equal to b\")\n",
        "if ( a < b ):\n",
        " print (\"Line 3 - a is less than b\" )\n",
        "else:\n",
        " print (\"Line 3 - a is not less than b\")\n",
        "if ( a > b ):\n",
        " print (\"Line 4 - a is greater than b\")\n",
        "else:\n",
        " print (\"Line 4 - a is not greater than b\")\n",
        "a,b=b,a #values of a and b swapped. a becomes 10, b becomes 21\n",
        "if ( a <= b ):\n",
        " print (\"Line 5 - a is either less than or equal to b\")\n",
        "else:\n",
        " print (\"Line 5 - a is neither less than nor equal to b\")\n",
        "if ( b >= a ):\n",
        " print (\"Line 6 - b is either greater than or equal to b\")\n",
        "else:\n",
        " print (\"Line 6 - b is neither greater than nor equal to b\")\n"
      ],
      "metadata": {
        "colab": {
          "base_uri": "https://localhost:8080/"
        },
        "id": "W36PVRxd0Iiu",
        "outputId": "7bcd68d6-b0dd-47dc-a495-57c57f5f5b23"
      },
      "execution_count": null,
      "outputs": [
        {
          "output_type": "stream",
          "name": "stdout",
          "text": [
            "Line 1 - a is not equal to b\n",
            "Line 2 - a is not equal to b\n",
            "Line 3 - a is not less than b\n",
            "Line 4 - a is greater than b\n",
            "Line 5 - a is either less than or equal to b\n",
            "Line 6 - b is either greater than or equal to b\n"
          ]
        }
      ]
    },
    {
      "cell_type": "code",
      "source": [
        "a = 10\n",
        "b = 20\n",
        "list = [1, 2, 3, 4, 5 ]\n",
        "if ( a in list ):\n",
        " print (\"Line 1 - a is available in the given list\")\n",
        "else:\n",
        " print (\"Line 1 - a is not available in the given list\")\n",
        "if ( b not in list ):\n",
        " print (\"Line 2 - b is not available in the given list\")\n",
        "else:\n",
        " print (\"Line 2 - b is available in the given list\")\n",
        "c=b/a\n",
        "if ( c in list ):\n",
        " print (\"Line 3 - a is available in the given list\")\n",
        "else:\n",
        " print (\"Line 3 - a is not available in the given list\")"
      ],
      "metadata": {
        "colab": {
          "base_uri": "https://localhost:8080/"
        },
        "id": "ISpC7ier1bU_",
        "outputId": "ac0a20d3-ee46-48d9-d6bf-a996643fed75"
      },
      "execution_count": null,
      "outputs": [
        {
          "output_type": "stream",
          "name": "stdout",
          "text": [
            "Line 1 - a is not available in the given list\n",
            "Line 2 - b is not available in the given list\n",
            "Line 3 - a is available in the given list\n"
          ]
        }
      ]
    },
    {
      "cell_type": "code",
      "source": [
        "var1 = 100\n",
        "if var1:\n",
        " print (\"1 - Got a true expression value\")\n",
        " print (var1)\n",
        "var2 = 0\n",
        "if var2:\n",
        " print (\"2 - Got a true expression value\")\n",
        " print (var2)\n",
        "print (\"Good bye!\")"
      ],
      "metadata": {
        "id": "678Z6m6g72-f",
        "colab": {
          "base_uri": "https://localhost:8080/"
        },
        "outputId": "7d4f3e31-da72-40f8-eed2-89eabbe10dc1"
      },
      "execution_count": null,
      "outputs": [
        {
          "output_type": "stream",
          "name": "stdout",
          "text": [
            "1 - Got a true expression value\n",
            "100\n",
            "Good bye!\n"
          ]
        }
      ]
    },
    {
      "cell_type": "code",
      "source": [
        "amount=int(input(\"Enter amount: \"))\n",
        "if amount<1000:\n",
        " discount=amount*0.05\n",
        " print (\"Discount\",discount)\n",
        "elif amount<5000:\n",
        " discount=amount*0.10\n",
        " print (\"Discount\",discount)\n",
        "else:\n",
        " discount=amount*0.15\n",
        " print (\"Discount\",discount)\n",
        "print (\"Net payable:\",amount-discount)\n"
      ],
      "metadata": {
        "id": "Ji_aqt4E63ng",
        "colab": {
          "base_uri": "https://localhost:8080/"
        },
        "outputId": "951868da-5392-4d8c-bfad-56f453ad2d04"
      },
      "execution_count": 30,
      "outputs": [
        {
          "output_type": "stream",
          "name": "stdout",
          "text": [
            "Enter amount: 2300\n",
            "Discount 230.0\n",
            "Net payable: 2070.0\n"
          ]
        }
      ]
    },
    {
      "cell_type": "code",
      "source": [],
      "metadata": {
        "id": "ZpiogDk-HZoH"
      },
      "execution_count": 30,
      "outputs": []
    },
    {
      "cell_type": "code",
      "source": [
        "num=int(input(\"enter number\"))\n",
        "if num%2==0:\n",
        " if num%3==0:\n",
        "  print (\"Divisible by 3 and 2\")\n",
        " else:\n",
        "  print (\"divisible by 2 not divisible by 3\")\n",
        "else:\n",
        " if num%3==0:\n",
        "  print (\"divisible by 3 not divisible by 2\")\n",
        " else:\n",
        "  print (\"not Divisible by 2 not divisible by 3\")"
      ],
      "metadata": {
        "colab": {
          "base_uri": "https://localhost:8080/"
        },
        "id": "vz9DabcmGeue",
        "outputId": "191ad217-d164-4e28-fe3d-493d439217d1"
      },
      "execution_count": 32,
      "outputs": [
        {
          "output_type": "stream",
          "name": "stdout",
          "text": [
            "enter number7\n",
            "not Divisible by 2 not divisible by 3\n"
          ]
        }
      ]
    },
    {
      "cell_type": "code",
      "source": [
        "count = 1\n",
        "while(count<=6):\n",
        "  print(\"count is\",count)\n",
        "  count=count+2\n",
        "print(\"loop terminates\")"
      ],
      "metadata": {
        "colab": {
          "base_uri": "https://localhost:8080/"
        },
        "id": "Tvj_X7Z8IM1S",
        "outputId": "acdd8f3b-6ae0-451a-ed91-aa2ae5a413f7"
      },
      "execution_count": 35,
      "outputs": [
        {
          "output_type": "stream",
          "name": "stdout",
          "text": [
            "count is 1\n",
            "count is 3\n",
            "count is 5\n",
            "loop terminates\n"
          ]
        }
      ]
    },
    {
      "cell_type": "code",
      "source": [
        "n=int(input(\"enter a number\"))\n",
        "count = 1\n",
        "while(count<=n):\n",
        "  print(\"count is\",count)\n",
        "  count=count+2\n",
        "print(\"loop terminates\")"
      ],
      "metadata": {
        "colab": {
          "base_uri": "https://localhost:8080/"
        },
        "id": "bfUqBzjdLnJR",
        "outputId": "9694e81d-4e8c-4a11-d631-2780784e6502"
      },
      "execution_count": 36,
      "outputs": [
        {
          "output_type": "stream",
          "name": "stdout",
          "text": [
            "enter a number100\n",
            "count is 1\n",
            "count is 3\n",
            "count is 5\n",
            "count is 7\n",
            "count is 9\n",
            "count is 11\n",
            "count is 13\n",
            "count is 15\n",
            "count is 17\n",
            "count is 19\n",
            "count is 21\n",
            "count is 23\n",
            "count is 25\n",
            "count is 27\n",
            "count is 29\n",
            "count is 31\n",
            "count is 33\n",
            "count is 35\n",
            "count is 37\n",
            "count is 39\n",
            "count is 41\n",
            "count is 43\n",
            "count is 45\n",
            "count is 47\n",
            "count is 49\n",
            "count is 51\n",
            "count is 53\n",
            "count is 55\n",
            "count is 57\n",
            "count is 59\n",
            "count is 61\n",
            "count is 63\n",
            "count is 65\n",
            "count is 67\n",
            "count is 69\n",
            "count is 71\n",
            "count is 73\n",
            "count is 75\n",
            "count is 77\n",
            "count is 79\n",
            "count is 81\n",
            "count is 83\n",
            "count is 85\n",
            "count is 87\n",
            "count is 89\n",
            "count is 91\n",
            "count is 93\n",
            "count is 95\n",
            "count is 97\n",
            "count is 99\n",
            "loop terminates\n"
          ]
        }
      ]
    },
    {
      "cell_type": "code",
      "source": [
        "range(10)\n",
        "print(range)\n"
      ],
      "metadata": {
        "colab": {
          "base_uri": "https://localhost:8080/"
        },
        "id": "Jn2STAIzNgSd",
        "outputId": "fa4da0cd-d05f-4102-a8f9-b5cbb53402c7"
      },
      "execution_count": 42,
      "outputs": [
        {
          "output_type": "stream",
          "name": "stdout",
          "text": [
            "<class 'range'>\n"
          ]
        }
      ]
    },
    {
      "cell_type": "code",
      "source": [
        "#!/usr/bin/python3\n",
        "numbers=[11,33,55,39,55,75,37,21,23,13,13]\n",
        "for num in numbers:\n",
        " if num%2==0:\n",
        "  print ('the list contains an even number')\n",
        "  break\n",
        "else:\n",
        " print ('the list doesnot contain even number')\n"
      ],
      "metadata": {
        "colab": {
          "base_uri": "https://localhost:8080/"
        },
        "id": "UsFxO385PAfE",
        "outputId": "ce646de9-6ca9-4c3d-f82b-ced80fcb6995"
      },
      "execution_count": 55,
      "outputs": [
        {
          "output_type": "stream",
          "name": "stdout",
          "text": [
            "the list doesnot contain even number\n"
          ]
        }
      ]
    }
  ]
}